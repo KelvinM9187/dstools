{
 "cells": [
  {
   "cell_type": "markdown",
   "metadata": {},
   "source": [
    "# My Jupyter Notebook on IBM Watson Studio"
   ]
  },
  {
   "cell_type": "markdown",
   "metadata": {},
   "source": [
    "**Kelvin Mhodi**\n",
    "\n",
    "\n",
    "Data Scientist"
   ]
  },
  {
   "cell_type": "markdown",
   "metadata": {},
   "source": [
    "_I am interested in Data Science because I want to contribute to smart agriculture by providing insights that farmers need to improve productivity while minimizing the costs of operation._"
   ]
  },
  {
   "cell_type": "markdown",
   "metadata": {},
   "source": [
    "### The code below asks for the user's name, and then prints a message greeting the user."
   ]
  },
  {
   "cell_type": "code",
   "execution_count": 3,
   "metadata": {},
   "outputs": [
    {
     "name": "stdin",
     "output_type": "stream",
     "text": [
      "Please enter your name : Kelvin Mhodi\n"
     ]
    },
    {
     "name": "stdout",
     "output_type": "stream",
     "text": [
      "Hello there, Kelvin Mhodi\n"
     ]
    }
   ],
   "source": [
    "user = input(\"Please enter your name :\")\n",
    "print(\"Hello there, {}\".format(user))"
   ]
  },
  {
   "cell_type": "markdown",
   "metadata": {},
   "source": [
    "[link to MIT Technology Review]\n",
    "(https://www.technologyreview.com)"
   ]
  },
  {
   "cell_type": "markdown",
   "metadata": {},
   "source": [
    "![image of a hydrogen-powered plane test flight]\n",
    "(https://wp.technologyreview.com/wp-content/uploads/2023/01/ZeroAvia_first_flight-crop.jpeg?fit=2252,1266)"
   ]
  },
  {
   "cell_type": "markdown",
   "metadata": {},
   "source": [
    "* Machine Learning\n",
    "  1. Unsupervised Learning\n",
    "       * Regression\n",
    "       * Classification\n",
    "  1. Supervised Learning\n",
    "       * Clustering"
   ]
  }
 ],
 "metadata": {
  "kernelspec": {
   "display_name": "Python",
   "language": "python",
   "name": "conda-env-python-py"
  },
  "language_info": {
   "codemirror_mode": {
    "name": "ipython",
    "version": 3
   },
   "file_extension": ".py",
   "mimetype": "text/x-python",
   "name": "python",
   "nbconvert_exporter": "python",
   "pygments_lexer": "ipython3",
   "version": "3.7.12"
  }
 },
 "nbformat": 4,
 "nbformat_minor": 4
}
